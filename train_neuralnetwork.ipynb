{
 "cells": [
  {
   "cell_type": "markdown",
   "metadata": {},
   "source": [
    "# 1. 신경망 학습"
   ]
  },
  {
   "cell_type": "markdown",
   "metadata": {},
   "source": [
    "* **학습(training)** : 훈련 데이터로부터 가중치 매개변수의 최적값을 자동으로 획득하는 것.\n",
    "* **손실 함수** : 신경망이 학습할 수 있도록 해주는 지표.\n",
    "손실 함수의 결괏값을 가장 작게 만드는 가중치 매개변수를 찾는 것이 학습의 목표임."
   ]
  },
  {
   "cell_type": "markdown",
   "metadata": {},
   "source": [
    "선형 분리 가능 문제인 경우 데이터로부터 자동으로 유한 번의 학습을 통해 풀 수 있다는 사실이 퍼셉트론 수렴 정리로 증명됨.  \n",
    "그러나 비선형 분리 문제는 자동으로 학습 불가.\n",
    "rf > **퍼셉트론 수렴 정리(perceptron convergence thorem)** : "
   ]
  },
  {
   "cell_type": "markdown",
   "metadata": {},
   "source": [
    "## 1.1 데이터 주도 학습\n",
    "데이터가 주어진 문제 상황에서 문제를 해결하는 알고리즘을 **설계**하는 대신,  \n",
    "주어진 데이터에서 **특징**을 추출하고 그 특징의 패턴을 기계학습 기술로 학습하여 문제를 해결할 수 있음.  \n",
    "(특징은 입력 데이터에서 본직적인 데이터를 정확하게 추출할 수 있도록 설계된 변환기를 가리킴. 이미지의 특징은 벡터, 컴퓨터 비전 분야에서는 SIFT, SURF, HOG등의 특징을 사용함. 변환된 벡터를 통해 지도 학습 방식의 대표 분류 기법인 SVM, KNN 등으로 학습 가능.)\n",
    "\n",
    "rf> SIFT : Scale Invariant Feature Transform\n",
    "    SURF : Speeded up robust features\n",
    "    HOG  : Histogram of Oriented Gradient"
   ]
  },
  {
   "cell_type": "code",
   "execution_count": null,
   "metadata": {},
   "outputs": [],
   "source": []
  }
 ],
 "metadata": {
  "kernelspec": {
   "display_name": "Python 3",
   "language": "python",
   "name": "python3"
  },
  "language_info": {
   "codemirror_mode": {
    "name": "ipython",
    "version": 3
   },
   "file_extension": ".py",
   "mimetype": "text/x-python",
   "name": "python",
   "nbconvert_exporter": "python",
   "pygments_lexer": "ipython3",
   "version": "3.6.5"
  }
 },
 "nbformat": 4,
 "nbformat_minor": 2
}
