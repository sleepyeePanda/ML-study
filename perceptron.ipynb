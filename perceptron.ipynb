{
 "cells": [
  {
   "cell_type": "markdown",
   "metadata": {},
   "source": [
    "# 1. 퍼셉트론"
   ]
  },
  {
   "cell_type": "markdown",
   "metadata": {},
   "source": [
    "## 1.1 퍼셉트론의 개념\n",
    "* **퍼셉트론(perceptron)** : 인공 뉴런 혹은 단순 퍼셉트론.  다수의 신호를 입력으로 받아 하나의 신호를 출력함. \n",
    "인공신경망의 한 종류로서,가장 간단한 형태의 피드포워드(Feedforward) 네트워크 또는 피드포워드 선형분류기로도 볼 수 있음.  \n",
    "각 노드의 가중치와 입력치를 곱한 것을 모두 합한 값이 활성함수에 의해 판단되는데, 그 값이 임계치(보통 0)보다 크면 뉴런이 활성화되고 결과값으로 1을 출력함. 뉴런이 활성화되지 않으면 결과값으로 -1을 출력함\n",
    "단층 퍼셉트론은 XOR 연산이 불가능하지만, 다층 퍼셉트론으로는 XOR 연산이 가능함.\n",
    "\n",
    "rf >\n",
    "* **피드포워드(feedforward neural network)** : an artificial neural network wherein connections between the nodes do not form a cycle. The information moves in only one direction, forward, from the input nodes, through the hidden nodes (if any) and to the output nodes. There are no cycles or loops in the network.\n",
    "* **순환 인경 신공망(recurrent neural network, RNN)** : an artificial neural network wherein connections between the nodes form a directed graph along a sequence. This allows it to exhibit temporal dynamic behavior for a time sequence."
   ]
  },
  {
   "cell_type": "code",
   "execution_count": 55,
   "metadata": {},
   "outputs": [],
   "source": [
    "import numpy as np"
   ]
  },
  {
   "cell_type": "code",
   "execution_count": 56,
   "metadata": {},
   "outputs": [],
   "source": [
    "x = np.array([0, 1]) # input\n",
    "w = np.array([0.5, 0.5]) # weight\n",
    "b = -0.7 # bias"
   ]
  },
  {
   "cell_type": "code",
   "execution_count": 57,
   "metadata": {},
   "outputs": [
    {
     "data": {
      "text/plain": [
       "array([0. , 0.5])"
      ]
     },
     "execution_count": 57,
     "metadata": {},
     "output_type": "execute_result"
    }
   ],
   "source": [
    "w*x"
   ]
  },
  {
   "cell_type": "code",
   "execution_count": 58,
   "metadata": {},
   "outputs": [
    {
     "data": {
      "text/plain": [
       "0.5"
      ]
     },
     "execution_count": 58,
     "metadata": {},
     "output_type": "execute_result"
    }
   ],
   "source": [
    "np.sum(w*x)"
   ]
  },
  {
   "cell_type": "code",
   "execution_count": 59,
   "metadata": {},
   "outputs": [
    {
     "data": {
      "text/plain": [
       "-0.19999999999999996"
      ]
     },
     "execution_count": 59,
     "metadata": {},
     "output_type": "execute_result"
    }
   ],
   "source": [
    "np.sum(w*x) + b"
   ]
  },
  {
   "cell_type": "markdown",
   "metadata": {},
   "source": [
    "## 1.2 단층 퍼셉트론 구현"
   ]
  },
  {
   "cell_type": "markdown",
   "metadata": {},
   "source": [
    "w는 각 입력 신호가 결과에 주는 영향력(중요도)을 조절\n",
    "b는 뉴런이 얼마나 쉽게 활성화하느냐를 조정"
   ]
  },
  {
   "cell_type": "code",
   "execution_count": 60,
   "metadata": {},
   "outputs": [],
   "source": [
    "def AND (x1, x2):\n",
    "    x = np.array([x1, x2])\n",
    "    w = np.array([0.5, 0.5])\n",
    "    b = -0.7\n",
    "    tmp = np.sum(w*x) + b\n",
    "    if tmp <= 0:\n",
    "        return 0\n",
    "    else: \n",
    "        return 1"
   ]
  },
  {
   "cell_type": "code",
   "execution_count": 61,
   "metadata": {},
   "outputs": [],
   "source": [
    "def NAND(x1,x2):\n",
    "    x = np.array([x1, x2])\n",
    "    w = np.array([-0.5, -0.5])\n",
    "    b = 0.7\n",
    "    tmp = np.sum(w*x) + b\n",
    "    if tmp <= 0 :\n",
    "        return 0\n",
    "    else:\n",
    "        return 1"
   ]
  },
  {
   "cell_type": "code",
   "execution_count": 62,
   "metadata": {},
   "outputs": [],
   "source": [
    "def OR(x1,x2):\n",
    "    x = np.array([x1, x2])\n",
    "    w = np.array([0.5, 0.5])\n",
    "    b = -0.2\n",
    "    tmp = np.sum(w*x) + b\n",
    "    if tmp <= 0:\n",
    "        return 0\n",
    "    else:\n",
    "        return 1\n",
    "    "
   ]
  },
  {
   "cell_type": "code",
   "execution_count": 63,
   "metadata": {},
   "outputs": [],
   "source": [
    "def printResult(func, strFuncName):\n",
    "    for i in range(4):\n",
    "        print('{} {} {} : {}'.format(x1[i],strFuncName, x2[i], func(x1[i], x2[i])))\n",
    "    print('-'*15)"
   ]
  },
  {
   "cell_type": "code",
   "execution_count": 64,
   "metadata": {},
   "outputs": [],
   "source": [
    "x1 = np.array([0, 0, 1, 1])\n",
    "x2 = np.array([0, 1, 0, 1])"
   ]
  },
  {
   "cell_type": "code",
   "execution_count": 65,
   "metadata": {},
   "outputs": [
    {
     "name": "stdout",
     "output_type": "stream",
     "text": [
      "0 AND 0 : 0\n",
      "0 AND 1 : 0\n",
      "1 AND 0 : 0\n",
      "1 AND 1 : 1\n",
      "---------------\n",
      "0 OR 0 : 0\n",
      "0 OR 1 : 1\n",
      "1 OR 0 : 1\n",
      "1 OR 1 : 1\n",
      "---------------\n",
      "0 NAND 0 : 1\n",
      "0 NAND 1 : 1\n",
      "1 NAND 0 : 1\n",
      "1 NAND 1 : 0\n",
      "---------------\n"
     ]
    }
   ],
   "source": [
    "printResult(AND,'AND')\n",
    "printResult(OR,'OR')\n",
    "printResult(NAND, 'NAND')"
   ]
  },
  {
   "cell_type": "markdown",
   "metadata": {},
   "source": [
    "### 1.2.1 퍼셉트론의 한계\n",
    "단층 퍼센트론은 직선 하나로 나눈 영역만 표현 가능하므로 비선형 영역 분리불가능"
   ]
  },
  {
   "cell_type": "markdown",
   "metadata": {},
   "source": [
    "## 1.4 다층 퍼셉트론의 개념\n",
    "* 다층 퍼셉트론(multi-layer perceptron) : 층이 여러개인 퍼셉트론. 보통 가중치를 갖는 층의 개수가 다층 퍼셉트론의 층의 수임. 문헌에 따라서는 구성 층의 수를 기준으로 다층 퍼셉트론의 층의 수를 정하기도 함.\n",
    "\n",
    "**단층 퍼셉트론은 직선형 영역만 표현할 수 있지만(AND 게이트, OR 게이트 ,NAND 게이트)  \n",
    "다층 퍼셉트론은 비선형 영역도 표현할 수 있음.(XOR 게이트)**\n",
    "\n",
    "NAND 게이트만으로 컴퓨터를 만들 수 있기 때문에 퍼셉트론만으로도 컴퓨터를 만들 수 있음.  \n",
    "**\"이론상 2층 퍼센츠론이면 컴퓨터를 만들 수 있음.\"**  \n",
    "2층 퍼셉트론, 정확히는 비선형인 시그모이드 함수를 활성화 함수로 이용하면 임의의 (복잡한) 함수를 표현 가능. 그러나 가중치를 설정하는 작업은 사람이 수동으로 해야 함.  \n",
    "(신경망은 가중치 매개변수의 적절한 값을 데이터로부터 자동으로 학습함)\n",
    "\n",
    "2층 퍼셉트론 구조에서 가중치를 적절히 설정하여 컴퓨터를 만들기는 너무 어려우므로 부품(모듈)을 단계적으로 만들어 다시 층층이 겹친 구조로 만드는 방향이 자연스러움.(AND와 OR 게이트, 반가산기와 전가산기, 산술논리장치, CPU)\n",
    "\n",
    "퍼셉트론의 매개변수 값을 인간이 '학습 데이터'를 보면서 유추하는 것처럼,\n",
    "기계학습이란 이 매개변수의 값을 정하는 작업을 컴퓨터가 자동으로 하도록 하는 것.\n",
    "학습이란 적절한 매개변수 값을 정하는 작업이며, 사람은 퍼셉트론의 구조(모델)를 고민하고 컴퓨터에 학습할 데이터를 주는 일을 함. "
   ]
  },
  {
   "cell_type": "markdown",
   "metadata": {},
   "source": [
    "## 1.5 다층 퍼셉트론 구현"
   ]
  },
  {
   "cell_type": "code",
   "execution_count": 66,
   "metadata": {},
   "outputs": [],
   "source": [
    "def XOR(x1, x2):\n",
    "    s1 = NAND(x1,x2)\n",
    "    s2 = OR(x1,x2)\n",
    "    y = AND(s1, s2)\n",
    "    return y"
   ]
  },
  {
   "cell_type": "code",
   "execution_count": 67,
   "metadata": {},
   "outputs": [
    {
     "name": "stdout",
     "output_type": "stream",
     "text": [
      "0 XOR 0 : 0\n",
      "0 XOR 1 : 1\n",
      "1 XOR 0 : 1\n",
      "1 XOR 1 : 0\n",
      "---------------\n"
     ]
    }
   ],
   "source": [
    "printResult(XOR, 'XOR')"
   ]
  },
  {
   "cell_type": "markdown",
   "metadata": {},
   "source": [
    "### 1.5.1 반가산기 구현"
   ]
  },
  {
   "cell_type": "code",
   "execution_count": 68,
   "metadata": {},
   "outputs": [],
   "source": [
    "def HALFADDER(x1, x2):\n",
    "    s = XOR(x1, x2)\n",
    "    c = AND(x1, x2)\n",
    "    return c,s"
   ]
  },
  {
   "cell_type": "code",
   "execution_count": 69,
   "metadata": {},
   "outputs": [
    {
     "name": "stdout",
     "output_type": "stream",
     "text": [
      "0 HALFADDER 0 : (0, 0)\n",
      "0 HALFADDER 1 : (0, 1)\n",
      "1 HALFADDER 0 : (0, 1)\n",
      "1 HALFADDER 1 : (1, 0)\n",
      "---------------\n"
     ]
    }
   ],
   "source": [
    "printResult(HALFADDER, 'HALFADDER')"
   ]
  },
  {
   "cell_type": "markdown",
   "metadata": {},
   "source": [
    "### 1.5.2 전가산기 구현"
   ]
  },
  {
   "cell_type": "code",
   "execution_count": 70,
   "metadata": {},
   "outputs": [],
   "source": [
    "def FULLADDER(x1, x2, z):\n",
    "    c1, s1 = HALFADDER(x1, x2)\n",
    "    s2  = XOR(s1, z)\n",
    "    c2 = OR(AND(s1, z), c1)\n",
    "    return (c2, s2)"
   ]
  },
  {
   "cell_type": "code",
   "execution_count": 71,
   "metadata": {},
   "outputs": [],
   "source": [
    "x1 = np.array([0, 0, 0, 0, 1, 1, 1 ,1])\n",
    "x2 = np.array([0, 0, 1, 1, 0, 0, 1 ,1])\n",
    "z = np.array([0, 1, 0, 1, 0, 1, 0, 1])"
   ]
  },
  {
   "cell_type": "code",
   "execution_count": 72,
   "metadata": {},
   "outputs": [
    {
     "name": "stdout",
     "output_type": "stream",
     "text": [
      "0 FULLADDER (0, 0) : (0, 0)\n",
      "1 FULLADDER (0, 0) : (0, 1)\n",
      "0 FULLADDER (1, 0) : (0, 1)\n",
      "1 FULLADDER (1, 0) : (1, 0)\n",
      "0 FULLADDER (0, 1) : (0, 1)\n",
      "1 FULLADDER (0, 1) : (1, 0)\n",
      "0 FULLADDER (1, 1) : (1, 0)\n",
      "1 FULLADDER (1, 1) : (1, 1)\n"
     ]
    }
   ],
   "source": [
    "for i in range(8):\n",
    "        print('{} {} {} : {}'.format(z[i],'FULLADDER', (x2[i], x1[i]), FULLADDER(x1[i], x2[i],z[i])))"
   ]
  }
 ],
 "metadata": {
  "kernelspec": {
   "display_name": "Python 3",
   "language": "python",
   "name": "python3"
  },
  "language_info": {
   "codemirror_mode": {
    "name": "ipython",
    "version": 3
   },
   "file_extension": ".py",
   "mimetype": "text/x-python",
   "name": "python",
   "nbconvert_exporter": "python",
   "pygments_lexer": "ipython3",
   "version": "3.6.5"
  }
 },
 "nbformat": 4,
 "nbformat_minor": 2
}
